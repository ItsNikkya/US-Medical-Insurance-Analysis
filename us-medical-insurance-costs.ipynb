{
 "cells": [
  {
   "cell_type": "markdown",
   "metadata": {},
   "source": [
    "# U.S. Medical Insurance Costs"
   ]
  },
  {
   "cell_type": "markdown",
   "metadata": {},
   "source": [
    "In this notebook a dataset containing insurance data will be analyzed. This dataset is contained in the file `insurance.csv`, and thus we'll begin by importing the **csv** library so we can work with this file:\n"
   ]
  },
  {
   "cell_type": "code",
   "execution_count": 1,
   "metadata": {
    "ExecuteTime": {
     "end_time": "2024-07-02T22:46:17.669540Z",
     "start_time": "2024-07-02T22:46:17.372664600Z"
    }
   },
   "outputs": [],
   "source": [
    "import csv"
   ]
  },
  {
   "cell_type": "markdown",
   "metadata": {},
   "source": [
    "## Dataset description"
   ]
  },
  {
   "cell_type": "markdown",
   "metadata": {},
   "source": [
    "The dataset file contains seven fields:\n",
    "- `age`, the age of the individual;\n",
    "- `sex`, the sex of the individual;\n",
    "- `bmi`, the [body mass index](https://en.wikipedia.org/wiki/Body_mass_index) of the patient;\n",
    "- `children`, the number of children of the individual;\n",
    "- `smoker`, whether the individual smokes or not;\n",
    "- `region`, a very broad description of the patient's location;\n",
    "- `charges`, how much that individual pays for insurance.\n",
    "\n",
    "We can define lists for each of these fields:"
   ]
  },
  {
   "cell_type": "code",
   "execution_count": 2,
   "metadata": {
    "ExecuteTime": {
     "end_time": "2024-07-02T22:46:17.766282700Z",
     "start_time": "2024-07-02T22:46:17.403095500Z"
    }
   },
   "outputs": [],
   "source": [
    "ages = []\n",
    "sexes = []\n",
    "bmis = []\n",
    "children = []\n",
    "is_smoker = []\n",
    "regions = []\n",
    "charges = []"
   ]
  },
  {
   "cell_type": "markdown",
   "metadata": {},
   "source": [
    "With our lists defined, we can read the dataset file and populate them:"
   ]
  },
  {
   "cell_type": "code",
   "execution_count": 3,
   "metadata": {
    "ExecuteTime": {
     "end_time": "2024-07-02T22:46:17.790864600Z",
     "start_time": "2024-07-02T22:46:17.418366800Z"
    }
   },
   "outputs": [],
   "source": [
    "with open('insurance.csv', newline='') as insurance_dataset:\n",
    "    insurance_dict = csv.DictReader(insurance_dataset)\n",
    "    for item in insurance_dict:\n",
    "        ages.append(int(item[\"age\"]))\n",
    "        sexes.append(item[\"sex\"])\n",
    "        bmis.append(float(item[\"bmi\"]))\n",
    "        children.append(int(item[\"children\"]))\n",
    "        is_smoker.append(True if item[\"smoker\"] == 'yes' else False)\n",
    "        regions.append(item[\"region\"])\n",
    "        charges.append(float(item[\"charges\"]))"
   ]
  },
  {
   "cell_type": "markdown",
   "metadata": {},
   "source": [
    "With this method each list will have the same number of items and we can use the indexes to refer to each individual.\n",
    "We can see if this holds by checking the length of each list:"
   ]
  },
  {
   "cell_type": "code",
   "execution_count": 4,
   "metadata": {
    "ExecuteTime": {
     "end_time": "2024-07-02T22:46:17.804862100Z",
     "start_time": "2024-07-02T22:46:17.433350300Z"
    }
   },
   "outputs": [
    {
     "name": "stdout",
     "output_type": "stream",
     "text": [
      "1338\n",
      "1338\n",
      "1338\n",
      "1338\n",
      "1338\n",
      "1338\n",
      "1338\n"
     ]
    }
   ],
   "source": [
    "# Un/comment each line to show/hide its output\n",
    "\n",
    "print(len(ages))\n",
    "print(len(sexes))\n",
    "print(len(bmis))\n",
    "print(len(children))\n",
    "print(len(is_smoker))\n",
    "print(len(regions))\n",
    "print(len(charges))"
   ]
  },
  {
   "cell_type": "code",
   "execution_count": 5,
   "metadata": {
    "ExecuteTime": {
     "end_time": "2024-07-02T22:46:17.804862100Z",
     "start_time": "2024-07-02T22:46:17.438348500Z"
    }
   },
   "outputs": [
    {
     "data": {
      "text/plain": [
       "range(0, 1338)"
      ]
     },
     "execution_count": 5,
     "metadata": {},
     "output_type": "execute_result"
    }
   ],
   "source": [
    "# store the length for further use\n",
    "ds_length = len(ages)\n",
    "ds_length_range = range(ds_length)\n",
    "ds_length_range"
   ]
  },
  {
   "cell_type": "markdown",
   "metadata": {},
   "source": [
    "All arrays have 1338 items each - there is no missing data. Perfect!\n",
    "With the data imported, we can go ahead and analyze it."
   ]
  },
  {
   "cell_type": "markdown",
   "metadata": {},
   "source": [
    "## Analysis"
   ]
  },
  {
   "cell_type": "markdown",
   "metadata": {},
   "source": [
    "### Sex Distribution\n",
    "\n",
    "First, we'll check the sex distribution of our dataset. We can do this by counting how many `male`s and `female`s are present, as well as their percentages:"
   ]
  },
  {
   "cell_type": "code",
   "execution_count": 6,
   "metadata": {
    "ExecuteTime": {
     "end_time": "2024-07-02T22:46:17.806117800Z",
     "start_time": "2024-07-02T22:46:17.474071700Z"
    }
   },
   "outputs": [
    {
     "name": "stdout",
     "output_type": "stream",
     "text": [
      "Number of males: 676 (50.52%)\n",
      "Number of females: 662 (49.48%)\n"
     ]
    }
   ],
   "source": [
    "males = sexes.count('male')\n",
    "females = sexes.count('female')\n",
    "\n",
    "print(f\"Number of males: {males} ({round(males/ds_length * 100, 2)}%)\")\n",
    "print(f\"Number of females: {females} ({round(females/ds_length * 100, 2)}%)\")"
   ]
  },
  {
   "cell_type": "markdown",
   "metadata": {},
   "source": [
    "The dataset is balanced in terms of males and females, with only 6 more males present."
   ]
  },
  {
   "cell_type": "markdown",
   "metadata": {},
   "source": [
    "### Ages\n",
    "\n",
    "We'll be getting a feel for the ages of the people in the dataset. For that we'll be getting the youngest and oldest age present, as well as the average and median ages:"
   ]
  },
  {
   "cell_type": "code",
   "execution_count": 7,
   "metadata": {
    "ExecuteTime": {
     "end_time": "2024-07-02T22:46:17.814073600Z",
     "start_time": "2024-07-02T22:46:17.504083800Z"
    }
   },
   "outputs": [
    {
     "name": "stdout",
     "output_type": "stream",
     "text": [
      "Lowest age: 18\n",
      "Highest age: 64\n",
      "Average age: 39.21\n",
      "Median age: 39.0\n"
     ]
    }
   ],
   "source": [
    "sorted_ages = sorted(ages)\n",
    "\n",
    "# lowest age\n",
    "lowest_age = sorted_ages[0]\n",
    "print(f\"Lowest age: {lowest_age}\")\n",
    "\n",
    "# highest age\n",
    "highest_age = sorted_ages[-1]\n",
    "print(f\"Highest age: {highest_age}\")\n",
    "\n",
    "# average\n",
    "sum_ages = 0\n",
    "for age in ages:\n",
    "    sum_ages = sum_ages + age\n",
    "average_age = sum_ages/ds_length\n",
    "\n",
    "print(f\"Average age: {round(average_age, 2)}\")\n",
    "\n",
    "# median\n",
    "med_point = int(len(sorted_ages)/2)\n",
    "median_age = ((sorted_ages[med_point]) + sorted_ages[1 + med_point]) / 2\n",
    "print(f\"Median age: {median_age}\")\n"
   ]
  },
  {
   "cell_type": "markdown",
   "metadata": {},
   "source": [
    "### Insurance costs by age group"
   ]
  },
  {
   "cell_type": "markdown",
   "metadata": {},
   "source": [
    "We're going to use the following age ranges:\n",
    "- 18 to 24 (range 1)\n",
    "- 25 to 34 (range 2)\n",
    "- 35 to 44 (range 3)\n",
    "- 45 to 54 (range 4)\n",
    "- 55 to 64 (range 5)\n",
    "\n",
    "A new column, `age_group`, will be created and its value will be determined by which range the individual's age falls into:"
   ]
  },
  {
   "cell_type": "code",
   "execution_count": 8,
   "metadata": {
    "ExecuteTime": {
     "end_time": "2024-07-02T22:46:17.816234300Z",
     "start_time": "2024-07-02T22:46:17.533758400Z"
    }
   },
   "outputs": [
    {
     "name": "stdout",
     "output_type": "stream",
     "text": [
      "People in group 1: 278\n",
      "People in group 2: 271\n",
      "People in group 3: 260\n",
      "People in group 4: 287\n",
      "People in group 5: 242\n"
     ]
    }
   ],
   "source": [
    "range_25_34 = range(25, 35)\n",
    "range_35_44 = range(35, 45)\n",
    "range_45_54 = range(45, 55)\n",
    "# the other ranges are unnecessary\n",
    "\n",
    "age_group = []\n",
    "group1_entries = 0\n",
    "group2_entries = 0\n",
    "group3_entries = 0\n",
    "group4_entries = 0\n",
    "group5_entries = 0\n",
    "for age in ages:\n",
    "    if age < 25:\n",
    "        age_group.append(1)\n",
    "        group1_entries += 1\n",
    "    elif age in range_25_34:\n",
    "        age_group.append(2)\n",
    "        group2_entries += 1\n",
    "    elif age in range_35_44:\n",
    "        age_group.append(3)\n",
    "        group3_entries += 1\n",
    "    elif age in range_45_54:\n",
    "        age_group.append(4)\n",
    "        group4_entries += 1\n",
    "    else:\n",
    "        age_group.append(5)\n",
    "        group5_entries += 1\n",
    "\n",
    "print(f\"\"\"People in group 1: {group1_entries}\n",
    "People in group 2: {group2_entries}\n",
    "People in group 3: {group3_entries}\n",
    "People in group 4: {group4_entries}\n",
    "People in group 5: {group5_entries}\"\"\")"
   ]
  },
  {
   "cell_type": "markdown",
   "metadata": {},
   "source": [
    "With the age ranges determined, we can go ahead and tally up the insurance costs:"
   ]
  },
  {
   "cell_type": "code",
   "execution_count": 9,
   "metadata": {
    "ExecuteTime": {
     "end_time": "2024-07-02T22:46:17.817246900Z",
     "start_time": "2024-07-02T22:46:17.548833600Z"
    }
   },
   "outputs": [
    {
     "name": "stdout",
     "output_type": "stream",
     "text": [
      "Cost for range 18-24: 2505152.61, average 9011.34\n",
      "Cost for range 25-34: 2805498.37, average 10352.39\n",
      "Cost for range 35-44: 3414883.86, average 13134.17\n",
      "Cost for range 45-54: 4550077.3, average 15853.93\n",
      "Cost for range 55-64: 4480212.85, average 18513.28\n",
      "\n"
     ]
    }
   ],
   "source": [
    "cost_range1 = 0.0\n",
    "cost_range2 = 0.0\n",
    "cost_range3 = 0.0\n",
    "cost_range4 = 0.0\n",
    "cost_range5 = 0.0\n",
    "\n",
    "for i in ds_length_range:\n",
    "    match age_group[i]:\n",
    "        case 1:\n",
    "            cost_range1 += charges[i]\n",
    "        case 2:\n",
    "            cost_range2 += charges[i]\n",
    "        case 3:\n",
    "            cost_range3 += charges[i]\n",
    "        case 4:\n",
    "            cost_range4 += charges[i]\n",
    "        case 5:\n",
    "            cost_range5 += charges[i]\n",
    "\n",
    "print(f\"\"\"Cost for range 18-24: {round(cost_range1, 2)}, average {round(cost_range1/group1_entries, 2)}\n",
    "Cost for range 25-34: {round(cost_range2, 2)}, average {round(cost_range2/group2_entries, 2)}\n",
    "Cost for range 35-44: {round(cost_range3, 2)}, average {round(cost_range3/group3_entries, 2)}\n",
    "Cost for range 45-54: {round(cost_range4, 2)}, average {round(cost_range4/group4_entries, 2)}\n",
    "Cost for range 55-64: {round(cost_range5, 2)}, average {round(cost_range5/group5_entries, 2)}\n",
    "\"\"\")\n",
    "    "
   ]
  },
  {
   "cell_type": "markdown",
   "metadata": {},
   "source": [
    "As would be expected, insurance costs go up as age increases."
   ]
  },
  {
   "cell_type": "markdown",
   "metadata": {},
   "source": [
    "### Smokers by age group"
   ]
  },
  {
   "cell_type": "markdown",
   "metadata": {},
   "source": [
    "We'll be determining how many smokers there are in each age group for upcoming analysis."
   ]
  },
  {
   "cell_type": "code",
   "execution_count": 10,
   "metadata": {
    "ExecuteTime": {
     "end_time": "2024-07-02T22:46:17.818246700Z",
     "start_time": "2024-07-02T22:46:17.590993800Z"
    }
   },
   "outputs": [
    {
     "name": "stdout",
     "output_type": "stream",
     "text": [
      "Group 1 smokers: 60/278\n",
      "Group 2 smokers: 56/271\n",
      "Group 3 smokers: 61/260\n",
      "Group 4 smokers: 55/287\n",
      "Group 5 smokers: 42/242\n"
     ]
    }
   ],
   "source": [
    "smokers_group1 = 0\n",
    "smokers_group2 = 0\n",
    "smokers_group3 = 0\n",
    "smokers_group4 = 0\n",
    "smokers_group5 = 0\n",
    "\n",
    "for i in ds_length_range:\n",
    "    if is_smoker[i]:\n",
    "        match age_group[i]:\n",
    "            case 1:\n",
    "                smokers_group1 += 1\n",
    "            case 2:\n",
    "                smokers_group2 += 1\n",
    "            case 3:\n",
    "                smokers_group3 += 1\n",
    "            case 4:\n",
    "                smokers_group4 += 1\n",
    "            case 5:\n",
    "                smokers_group5 += 1\n",
    "\n",
    "print(f\"\"\"Group 1 smokers: {smokers_group1}/{group1_entries}\n",
    "Group 2 smokers: {smokers_group2}/{group2_entries}\n",
    "Group 3 smokers: {smokers_group3}/{group3_entries}\n",
    "Group 4 smokers: {smokers_group4}/{group4_entries}\n",
    "Group 5 smokers: {smokers_group5}/{group5_entries}\"\"\")"
   ]
  },
  {
   "cell_type": "markdown",
   "metadata": {},
   "source": [
    "### Influence of smoking in insurance costs"
   ]
  },
  {
   "cell_type": "markdown",
   "metadata": {},
   "source": [
    "Since smoking is a risk factor, it can be assumed that smoking drives up an individual's insurance costs. Let's see by how much.\n"
   ]
  },
  {
   "cell_type": "code",
   "execution_count": 11,
   "metadata": {
    "ExecuteTime": {
     "end_time": "2024-07-02T22:46:17.820242700Z",
     "start_time": "2024-07-02T22:46:17.624074400Z"
    }
   },
   "outputs": [
    {
     "name": "stdout",
     "output_type": "stream",
     "text": [
      "Group 1:\n",
      "Smokers pay in average 27796.54 while non-smokers pay in average 3841.1\n",
      "\n",
      "Group 2:\n",
      "Smokers pay in average 28416.48 while non-smokers pay in average 5647.33\n",
      "\n",
      "Group 3:\n",
      "Smokers pay in average 31366.05 while non-smokers pay in average 7545.5\n",
      "\n",
      "Group 4:\n",
      "Smokers pay in average 35310.4 while non-smokers pay in average 11241.4\n",
      "\n",
      "Group 5:\n",
      "Smokers pay in average 39696.37 while non-smokers pay in average 14064.83\n"
     ]
    }
   ],
   "source": [
    "group1_smokers_cost = 0.0\n",
    "group1_nosmokers_cost = 0.0\n",
    "group2_smokers_cost = 0.0\n",
    "group2_nosmokers_cost = 0.0\n",
    "group3_smokers_cost = 0.0\n",
    "group3_nosmokers_cost = 0.0\n",
    "group4_smokers_cost = 0.0\n",
    "group4_nosmokers_cost = 0.0\n",
    "group5_smokers_cost = 0.0\n",
    "group5_nosmokers_cost = 0.0\n",
    "\n",
    "for i in ds_length_range:\n",
    "    match age_group[i]:\n",
    "        case 1:\n",
    "            if is_smoker[i]:\n",
    "                group1_smokers_cost += charges[i]\n",
    "            else:\n",
    "                group1_nosmokers_cost += charges[i]\n",
    "        case 2:\n",
    "            if is_smoker[i]:\n",
    "                group2_smokers_cost += charges[i]\n",
    "            else:\n",
    "                group2_nosmokers_cost += charges[i]\n",
    "        case 3:\n",
    "            if is_smoker[i]:\n",
    "                group3_smokers_cost += charges[i]\n",
    "            else:\n",
    "                group3_nosmokers_cost += charges[i]\n",
    "        case 4:\n",
    "            if is_smoker[i]:\n",
    "                group4_smokers_cost += charges[i]\n",
    "            else:\n",
    "                group4_nosmokers_cost += charges[i]\n",
    "        case 5:\n",
    "            if is_smoker[i]:\n",
    "                group5_smokers_cost += charges[i]\n",
    "            else:\n",
    "                group5_nosmokers_cost += charges[i]\n",
    "\n",
    "print(f\"\"\"Group 1:\n",
    "Smokers pay in average {round(group1_smokers_cost/smokers_group1,2)} while non-smokers pay in average {round(group1_nosmokers_cost/(group1_entries - smokers_group1),2)}\n",
    "\n",
    "Group 2:\n",
    "Smokers pay in average {round(group2_smokers_cost/smokers_group2,2)} while non-smokers pay in average {round(group2_nosmokers_cost/(group2_entries - smokers_group2),2)}\n",
    "\n",
    "Group 3:\n",
    "Smokers pay in average {round(group3_smokers_cost/smokers_group3,2)} while non-smokers pay in average {round(group3_nosmokers_cost/(group3_entries - smokers_group3),2)}\n",
    "\n",
    "Group 4:\n",
    "Smokers pay in average {round(group4_smokers_cost/smokers_group4,2)} while non-smokers pay in average {round(group4_nosmokers_cost/(group4_entries - smokers_group4),2)}\n",
    "\n",
    "Group 5:\n",
    "Smokers pay in average {round(group5_smokers_cost/smokers_group5,2)} while non-smokers pay in average {round(group5_nosmokers_cost/(group5_entries - smokers_group5),2)}\"\"\")"
   ]
  },
  {
   "cell_type": "markdown",
   "metadata": {},
   "source": [
    "### Sex and smoking in insurance costs"
   ]
  },
  {
   "cell_type": "markdown",
   "metadata": {},
   "source": [
    "We'll be seeing the effects of both sex and smoking in insurance costs."
   ]
  },
  {
   "cell_type": "code",
   "execution_count": 12,
   "metadata": {
    "ExecuteTime": {
     "end_time": "2024-07-02T22:46:17.823243400Z",
     "start_time": "2024-07-02T22:46:17.656834500Z"
    }
   },
   "outputs": [
    {
     "name": "stdout",
     "output_type": "stream",
     "text": [
      "Female smokers:\n",
      "695010.26888\n",
      "598873.39427\n",
      "842146.0512600001\n",
      "715332.46436\n",
      "676722.3929999999\n",
      "Female non-smokers:\n",
      "461405.52901900024\n",
      "623888.6263999997\n",
      "763247.1478600004\n",
      "1429362.0065099997\n",
      "1515073.3130599994\n",
      "Male smokers:\n",
      "972781.9965799998\n",
      "992449.47106\n",
      "1071182.7341100003\n",
      "1226739.79288\n",
      "990524.9554399999\n",
      "Male non-smokers:\n",
      "375954.8137399999\n",
      "590286.88276\n",
      "738307.92687\n",
      "1178643.0372900001\n",
      "1297892.1854100004\n"
     ]
    }
   ],
   "source": [
    "group1_female_smokers_cost = 0.0\n",
    "group1_female_nosmokers_cost = 0.0\n",
    "group2_female_smokers_cost = 0.0\n",
    "group2_female_nosmokers_cost = 0.0\n",
    "group3_female_smokers_cost = 0.0\n",
    "group3_female_nosmokers_cost = 0.0\n",
    "group4_female_smokers_cost = 0.0\n",
    "group4_female_nosmokers_cost = 0.0\n",
    "group5_female_smokers_cost = 0.0\n",
    "group5_female_nosmokers_cost = 0.0\n",
    "group1_male_smokers_cost = 0.0\n",
    "group1_male_nosmokers_cost = 0.0\n",
    "group2_male_smokers_cost = 0.0\n",
    "group2_male_nosmokers_cost = 0.0\n",
    "group3_male_smokers_cost = 0.0\n",
    "group3_male_nosmokers_cost = 0.0\n",
    "group4_male_smokers_cost = 0.0\n",
    "group4_male_nosmokers_cost = 0.0\n",
    "group5_male_smokers_cost = 0.0\n",
    "group5_male_nosmokers_cost = 0.0\n",
    "\n",
    "\n",
    "def fem_smoker_handler(age_group, cost):\n",
    "    global group1_female_smokers_cost\n",
    "    global group2_female_smokers_cost\n",
    "    global group3_female_smokers_cost\n",
    "    global group4_female_smokers_cost\n",
    "    global group5_female_smokers_cost\n",
    "    \n",
    "    match age_group:\n",
    "        case 1: \n",
    "            group1_female_smokers_cost += cost\n",
    "        case 2:\n",
    "            group2_female_smokers_cost += cost\n",
    "        case 3:\n",
    "            group3_female_smokers_cost += cost\n",
    "        case 4:\n",
    "            group4_female_smokers_cost += cost\n",
    "        case 5:\n",
    "            group5_female_smokers_cost += cost\n",
    "                              \n",
    "def fem_nonsmoker_handler(age_group, cost):\n",
    "    global group1_female_nosmokers_cost\n",
    "    global group2_female_nosmokers_cost\n",
    "    global group3_female_nosmokers_cost\n",
    "    global group4_female_nosmokers_cost\n",
    "    global group5_female_nosmokers_cost\n",
    "\n",
    "    match age_group:\n",
    "        case 1: \n",
    "            group1_female_nosmokers_cost += cost\n",
    "        case 2:\n",
    "            group2_female_nosmokers_cost += cost\n",
    "        case 3:\n",
    "            group3_female_nosmokers_cost += cost\n",
    "        case 4:\n",
    "            group4_female_nosmokers_cost += cost\n",
    "        case 5:\n",
    "            group5_female_nosmokers_cost += cost\n",
    "\n",
    "def male_smoker_handler(age_group, cost):\n",
    "    global group1_male_smokers_cost\n",
    "    global group2_male_smokers_cost\n",
    "    global group3_male_smokers_cost\n",
    "    global group4_male_smokers_cost\n",
    "    global group5_male_smokers_cost\n",
    "\n",
    "    match age_group:\n",
    "        case 1: \n",
    "            group1_male_smokers_cost += cost\n",
    "        case 2:\n",
    "            group2_male_smokers_cost += cost\n",
    "        case 3:\n",
    "            group3_male_smokers_cost += cost\n",
    "        case 4:\n",
    "            group4_male_smokers_cost += cost\n",
    "        case 5:\n",
    "            group5_male_smokers_cost += cost\n",
    "\n",
    "def male_nonsmoker_handler(age_group, cost):\n",
    "    global group1_male_nosmokers_cost\n",
    "    global group2_male_nosmokers_cost\n",
    "    global group3_male_nosmokers_cost\n",
    "    global group4_male_nosmokers_cost\n",
    "    global group5_male_nosmokers_cost\n",
    "\n",
    "    match age_group:\n",
    "        case 1: \n",
    "            group1_male_nosmokers_cost += cost\n",
    "        case 2:\n",
    "            group2_male_nosmokers_cost += cost\n",
    "        case 3:\n",
    "            group3_male_nosmokers_cost += cost\n",
    "        case 4:\n",
    "            group4_male_nosmokers_cost += cost\n",
    "        case 5:\n",
    "            group5_male_nosmokers_cost += cost\n",
    "\n",
    "for i in ds_length_range:\n",
    "    if sexes[i] == \"female\":\n",
    "        if is_smoker[i]:\n",
    "            fem_smoker_handler(age_group[i], charges[i])\n",
    "        else:\n",
    "            fem_nonsmoker_handler(age_group[i], charges[i])\n",
    "    else:\n",
    "        if is_smoker[i]:\n",
    "            male_smoker_handler(age_group[i], charges[i])\n",
    "        else:\n",
    "            male_nonsmoker_handler(age_group[i], charges[i])\n",
    "\n",
    "print(f\"Female smokers:\\n{group1_female_smokers_cost}\\n{group2_female_smokers_cost}\\n{group3_female_smokers_cost}\\n{group4_female_smokers_cost}\\n{group5_female_smokers_cost}\\nFemale non-smokers:\\n{group1_female_nosmokers_cost}\\n{group2_female_nosmokers_cost}\\n{group3_female_nosmokers_cost}\\n{group4_female_nosmokers_cost}\\n{group5_female_nosmokers_cost}\")\n",
    "print(f\"Male smokers:\\n{group1_male_smokers_cost}\\n{group2_male_smokers_cost}\\n{group3_male_smokers_cost}\\n{group4_male_smokers_cost}\\n{group5_male_smokers_cost}\\nMale non-smokers:\\n{group1_male_nosmokers_cost}\\n{group2_male_nosmokers_cost}\\n{group3_male_nosmokers_cost}\\n{group4_male_nosmokers_cost}\\n{group5_male_nosmokers_cost}\")"
   ]
  },
  {
   "cell_type": "markdown",
   "metadata": {},
   "source": [
    "### Charges by region"
   ]
  },
  {
   "cell_type": "markdown",
   "metadata": {},
   "source": [
    "We'll find out which region tends to pay more/less for insurance. First, we'll find out which values for `regions` are present:"
   ]
  },
  {
   "cell_type": "code",
   "execution_count": 13,
   "metadata": {},
   "outputs": [
    {
     "name": "stdout",
     "output_type": "stream",
     "text": [
      "{'southeast', 'northeast', 'northwest', 'southwest'}\n"
     ]
    }
   ],
   "source": [
    "# find unique regions\n",
    "print(set(regions))"
   ]
  },
  {
   "cell_type": "markdown",
   "metadata": {},
   "source": [
    "The four regions present are `southeast`, `southwest`, `northeast`, and `northwest`. We'll be creating a dictionary to keep track of the ongoing costs for each region:"
   ]
  },
  {
   "cell_type": "code",
   "execution_count": 14,
   "metadata": {},
   "outputs": [],
   "source": [
    "dict_charges_by_region = {\n",
    "    'southeast_total_cost': 0.0,\n",
    "    'southwest_total_cost': 0.0,\n",
    "    'northeast_total_cost': 0.0,\n",
    "    'northwest_total_cost': 0.0\n",
    "}"
   ]
  },
  {
   "cell_type": "markdown",
   "metadata": {},
   "source": [
    "Now we'll go through the dataset and tally up the charges for each region and see what they look like:"
   ]
  },
  {
   "cell_type": "code",
   "execution_count": 15,
   "metadata": {},
   "outputs": [
    {
     "name": "stdout",
     "output_type": "stream",
     "text": [
      "Southeast total charges: 5363689.76\n",
      "Southwest total charges: 4012754.65\n",
      "Northeast total charges: 4343668.58\n",
      "Northwest total charges: 4035712.0\n"
     ]
    }
   ],
   "source": [
    "# Don't run this repeatedly without resetting the dictionary in the cell above!\n",
    "\n",
    "for i in ds_length_range:\n",
    "    dict_key = f'{regions[i]}_total_cost'\n",
    "\n",
    "    dict_charges_by_region[dict_key] += charges[i]\n",
    "\n",
    "print(f'''Southeast total charges: {round(dict_charges_by_region['southeast_total_cost'], 2)}\n",
    "Southwest total charges: {round(dict_charges_by_region['southwest_total_cost'], 2)}\n",
    "Northeast total charges: {round(dict_charges_by_region['northeast_total_cost'], 2)}\n",
    "Northwest total charges: {round(dict_charges_by_region['northwest_total_cost'], 2)}''')"
   ]
  },
  {
   "cell_type": "markdown",
   "metadata": {},
   "source": [
    "Southeast pays more overall, but that by itself doesn't tell us much. It could simply be a result of higher population. Let's see how many people in this dataset live in this region:"
   ]
  },
  {
   "cell_type": "code",
   "execution_count": 17,
   "metadata": {},
   "outputs": [
    {
     "name": "stdout",
     "output_type": "stream",
     "text": [
      "Southeast inhabitants: 364\n",
      "Southwest inhabitants: 325\n",
      "Northeast inhabitants: 324\n",
      "Northwest inhabitants: 325\n"
     ]
    }
   ],
   "source": [
    "print(f'''Southeast inhabitants: {regions.count(\"southeast\")}\n",
    "Southwest inhabitants: {regions.count(\"southwest\")}\n",
    "Northeast inhabitants: {regions.count(\"northeast\")}\n",
    "Northwest inhabitants: {regions.count(\"northwest\")}''')"
   ]
  },
  {
   "cell_type": "markdown",
   "metadata": {},
   "source": [
    "Indeed, southeast inhabitants outnumber the other regions."
   ]
  }
 ],
 "metadata": {
  "kernelspec": {
   "display_name": "Python 3",
   "language": "python",
   "name": "python3"
  },
  "language_info": {
   "codemirror_mode": {
    "name": "ipython",
    "version": 3
   },
   "file_extension": ".py",
   "mimetype": "text/x-python",
   "name": "python",
   "nbconvert_exporter": "python",
   "pygments_lexer": "ipython3",
   "version": "3.11.5"
  }
 },
 "nbformat": 4,
 "nbformat_minor": 4
}
