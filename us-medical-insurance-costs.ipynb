{
 "cells": [
  {
   "cell_type": "markdown",
   "metadata": {},
   "source": [
    "# U.S. Medical Insurance Costs"
   ]
  },
  {
   "cell_type": "markdown",
   "metadata": {},
   "source": [
    "In this notebook a dataset containing insurance data will be analyzed. This dataset is contained in the file `insurance.csv`, and thus we'll begin by importing the **csv** library so we can work with this file:\n"
   ]
  },
  {
   "cell_type": "code",
   "execution_count": 1,
   "metadata": {},
   "outputs": [],
   "source": [
    "import csv"
   ]
  },
  {
   "cell_type": "markdown",
   "metadata": {},
   "source": [
    "## Dataset description"
   ]
  },
  {
   "cell_type": "markdown",
   "metadata": {},
   "source": [
    "The dataset file contains seven fields:\n",
    "- `age`, the age of the individual;\n",
    "- `sex`, the sex of the individual;\n",
    "- `bmi`, the [body mass index](https://en.wikipedia.org/wiki/Body_mass_index) of the patient;\n",
    "- `children`, the number of children of the individual;\n",
    "- `smoker`, whether the individual smokes or not;\n",
    "- `region`, a very broad description of the patient's location;\n",
    "- `charges`, how much that individual pays for insurance.\n",
    "\n",
    "We can define lists for each of these fields:"
   ]
  },
  {
   "cell_type": "code",
   "execution_count": 2,
   "metadata": {},
   "outputs": [],
   "source": [
    "ages = []\n",
    "sexes = []\n",
    "bmis = []\n",
    "children = []\n",
    "is_smoker = []\n",
    "regions = []\n",
    "charges = []"
   ]
  },
  {
   "cell_type": "markdown",
   "metadata": {},
   "source": [
    "With our lists defined, we can read the dataset file and populate them:"
   ]
  },
  {
   "cell_type": "code",
   "execution_count": 7,
   "metadata": {},
   "outputs": [],
   "source": [
    "with open('insurance.csv', newline='') as insurance_dataset:\n",
    "    insurance_dict = csv.DictReader(insurance_dataset)\n",
    "    for item in insurance_dict:\n",
    "        ages.append(item[\"age\"])\n",
    "        sexes.append(item[\"sex\"])\n",
    "        bmis.append(item[\"bmi\"])\n",
    "        children.append(item[\"children\"])\n",
    "        is_smoker.append(item[\"smoker\"])\n",
    "        regions.append(item[\"region\"])\n",
    "        charges.append(item[\"charges\"])"
   ]
  },
  {
   "cell_type": "markdown",
   "metadata": {},
   "source": [
    "With this method each list will have the same number of items and we can use the indexes to refer to each individual.\n",
    "We can see if this holds by checking the length of each list:"
   ]
  },
  {
   "cell_type": "code",
   "execution_count": 9,
   "metadata": {},
   "outputs": [
    {
     "name": "stdout",
     "output_type": "stream",
     "text": [
      "1338\n",
      "1338\n",
      "1338\n",
      "1338\n",
      "1338\n",
      "1338\n",
      "1338\n"
     ]
    }
   ],
   "source": [
    "# Un/comment each line to show/hide its output\n",
    "\n",
    "print(len(ages))\n",
    "print(len(sexes))\n",
    "print(len(bmis))\n",
    "print(len(children))\n",
    "print(len(is_smoker))\n",
    "print(len(regions))\n",
    "print(len(charges))"
   ]
  },
  {
   "cell_type": "markdown",
   "metadata": {},
   "source": [
    "All arrays have 1338 items each - perfect!\n",
    "With the data imported, we can go ahead and analyze it."
   ]
  },
  {
   "cell_type": "markdown",
   "metadata": {},
   "source": [
    "## Analysis"
   ]
  },
  {
   "cell_type": "markdown",
   "metadata": {},
   "source": [
    "### Sex Distribution\n",
    "\n",
    "First, we'll check the sex distribution of our dataset. We can do this by counting how many `male`s and `female`s are present, as well as their percentages:"
   ]
  },
  {
   "cell_type": "code",
   "execution_count": 14,
   "metadata": {},
   "outputs": [
    {
     "name": "stdout",
     "output_type": "stream",
     "text": [
      "Number of males: 676 (50.52%)\n",
      "Number of females: 662 (49.48%)\n"
     ]
    }
   ],
   "source": [
    "males = sexes.count('male')\n",
    "females = sexes.count('female')\n",
    "no_of_people = len(sexes)\n",
    "\n",
    "print(f\"Number of males: {males} ({round(males/no_of_people * 100, 2)}%)\")\n",
    "print(f\"Number of females: {females} ({round(females/no_of_people * 100, 2)}%)\")"
   ]
  },
  {
   "cell_type": "markdown",
   "metadata": {},
   "source": [
    "The dataset is balanced in terms of males and females, with only 6 more males present."
   ]
  },
  {
   "cell_type": "markdown",
   "metadata": {},
   "source": [
    "### Ages\n",
    "\n",
    "We'll be getting a feel for the ages of the people in the dataset. For that we'll be getting the youngest and oldest age present, as well as the average age:"
   ]
  },
  {
   "cell_type": "code",
   "execution_count": null,
   "metadata": {},
   "outputs": [],
   "source": []
  }
 ],
 "metadata": {
  "kernelspec": {
   "display_name": "Python 3",
   "language": "python",
   "name": "python3"
  },
  "language_info": {
   "codemirror_mode": {
    "name": "ipython",
    "version": 3
   },
   "file_extension": ".py",
   "mimetype": "text/x-python",
   "name": "python",
   "nbconvert_exporter": "python",
   "pygments_lexer": "ipython3",
   "version": "3.11.5"
  }
 },
 "nbformat": 4,
 "nbformat_minor": 4
}
